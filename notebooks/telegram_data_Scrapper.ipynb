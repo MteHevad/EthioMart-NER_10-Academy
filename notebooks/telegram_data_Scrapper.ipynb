{
  "nbformat": 4,
  "nbformat_minor": 0,
  "metadata": {
    "colab": {
      "provenance": []
    },
    "kernelspec": {
      "name": "python3",
      "display_name": "Python 3"
    },
    "language_info": {
      "name": "python"
    }
  },
  "cells": [
    {
      "cell_type": "code",
      "execution_count": null,
      "metadata": {
        "id": "1dKimlvPOODJ"
      },
      "outputs": [],
      "source": [
        "import pandas as pd\n",
        "import telethon\n",
        "from telethon.sync import TelegramClient\n",
        "from dotenv import load_dotenv\n",
        "import os\n",
        "import re\n",
        "import asyncio\n",
        "import nest_asyncio\n",
        "import csv"
      ]
    },
    {
      "cell_type": "code",
      "source": [
        "# Apply nest_asyncio to avoid issues with event loops in interactive environments\n",
        "nest_asyncio.apply()"
      ],
      "metadata": {
        "id": "ZYZXo8S1OWHM"
      },
      "execution_count": null,
      "outputs": []
    },
    {
      "cell_type": "code",
      "source": [
        "# Load environment variables from .env file\n",
        "load_dotenv('.env')\n",
        "api_id = os.getenv('TG_API_ID')\n",
        "api_hash = os.getenv('TG_API_HASH')\n",
        "phone = os.getenv('phone')"
      ],
      "metadata": {
        "id": "YecKyoxvOX90"
      },
      "execution_count": null,
      "outputs": []
    },
    {
      "cell_type": "code",
      "source": [
        "# Function to scrape data from a single channel\n",
        "async def scrape_channel(client, channel_username, writer, media_dir):\n",
        "    entity = await client.get_entity(channel_username)\n",
        "    channel_title = entity.title  # Extract the channel's title\n",
        "    print(f\"Scraping data from channel: {channel_title}\")\n",
        "\n",
        "    count = 0  # To count the number of messages scraped\n",
        "    async for message in client.iter_messages(entity, limit=10000):\n",
        "        media_path = None\n",
        "\n",
        "        if message.media and hasattr(message.media, 'photo'):\n",
        "            # Create a unique filename for the photo\n",
        "            filename = f\"{channel_username}_{message.id}.jpg\"\n",
        "            media_path = os.path.join(media_dir, filename)\n",
        "            # Download the media to the specified directory if it's a photo\n",
        "            await client.download_media(message.media, media_path)\n",
        "\n",
        "        # Extract text from the message\n",
        "        text = message.text if message.text else \"\"\n",
        "\n",
        "        # Write message data to CSV (using writer for lists)\n",
        "        writer.writerow([channel_title, message.id, message.date, text, media_path])\n",
        "\n",
        "        count += 1\n",
        "\n",
        "    print(f\"Finished scraping {count} messages from {channel_username}.\\n\")"
      ],
      "metadata": {
        "id": "1S6ZwCdqOaI1"
      },
      "execution_count": null,
      "outputs": []
    },
    {
      "cell_type": "code",
      "source": [],
      "metadata": {
        "id": "Bi0nduGcOd4R"
      },
      "execution_count": null,
      "outputs": []
    }
  ]
}