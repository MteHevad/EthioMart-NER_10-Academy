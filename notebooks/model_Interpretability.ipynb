{
  "nbformat": 4,
  "nbformat_minor": 0,
  "metadata": {
    "colab": {
      "provenance": []
    },
    "kernelspec": {
      "name": "python3",
      "display_name": "Python 3"
    },
    "language_info": {
      "name": "python"
    },
    "widgets": {
      "application/vnd.jupyter.widget-state+json": {
        "df8470b39f624afd87a52f7fb39feeb5": {
          "model_module": "@jupyter-widgets/controls",
          "model_name": "HBoxModel",
          "model_module_version": "1.5.0",
          "state": {
            "_dom_classes": [],
            "_model_module": "@jupyter-widgets/controls",
            "_model_module_version": "1.5.0",
            "_model_name": "HBoxModel",
            "_view_count": null,
            "_view_module": "@jupyter-widgets/controls",
            "_view_module_version": "1.5.0",
            "_view_name": "HBoxView",
            "box_style": "",
            "children": [
              "IPY_MODEL_96b83d2429de46e4973c2724d523ec32",
              "IPY_MODEL_b657112cb25f41fa8d7e444cc19961b7",
              "IPY_MODEL_1fb0944679f64ed9a0c2508f9f8311d9"
            ],
            "layout": "IPY_MODEL_32bda48253564ef89c46647b8f488428"
          }
        },
        "96b83d2429de46e4973c2724d523ec32": {
          "model_module": "@jupyter-widgets/controls",
          "model_name": "HTMLModel",
          "model_module_version": "1.5.0",
          "state": {
            "_dom_classes": [],
            "_model_module": "@jupyter-widgets/controls",
            "_model_module_version": "1.5.0",
            "_model_name": "HTMLModel",
            "_view_count": null,
            "_view_module": "@jupyter-widgets/controls",
            "_view_module_version": "1.5.0",
            "_view_name": "HTMLView",
            "description": "",
            "description_tooltip": null,
            "layout": "IPY_MODEL_57658cf875ce4bb8ab4a5b4d2578c8b9",
            "placeholder": "​",
            "style": "IPY_MODEL_87c70216356a43a7ab41d438e85bc36f",
            "value": "100%"
          }
        },
        "b657112cb25f41fa8d7e444cc19961b7": {
          "model_module": "@jupyter-widgets/controls",
          "model_name": "FloatProgressModel",
          "model_module_version": "1.5.0",
          "state": {
            "_dom_classes": [],
            "_model_module": "@jupyter-widgets/controls",
            "_model_module_version": "1.5.0",
            "_model_name": "FloatProgressModel",
            "_view_count": null,
            "_view_module": "@jupyter-widgets/controls",
            "_view_module_version": "1.5.0",
            "_view_name": "ProgressView",
            "bar_style": "success",
            "description": "",
            "description_tooltip": null,
            "layout": "IPY_MODEL_dc92c19b4553453488da1769fc6792ea",
            "max": 1,
            "min": 0,
            "orientation": "horizontal",
            "style": "IPY_MODEL_c892086dc3ff4b4f8487e51eca94ec39",
            "value": 1
          }
        },
        "1fb0944679f64ed9a0c2508f9f8311d9": {
          "model_module": "@jupyter-widgets/controls",
          "model_name": "HTMLModel",
          "model_module_version": "1.5.0",
          "state": {
            "_dom_classes": [],
            "_model_module": "@jupyter-widgets/controls",
            "_model_module_version": "1.5.0",
            "_model_name": "HTMLModel",
            "_view_count": null,
            "_view_module": "@jupyter-widgets/controls",
            "_view_module_version": "1.5.0",
            "_view_name": "HTMLView",
            "description": "",
            "description_tooltip": null,
            "layout": "IPY_MODEL_d5b5c8e6952f45dfa1e5351e1478b59c",
            "placeholder": "​",
            "style": "IPY_MODEL_58fcbd487721422a91cd8227f7e07710",
            "value": " 1/1 [00:00&lt;00:00,  5.25it/s]"
          }
        },
        "32bda48253564ef89c46647b8f488428": {
          "model_module": "@jupyter-widgets/base",
          "model_name": "LayoutModel",
          "model_module_version": "1.2.0",
          "state": {
            "_model_module": "@jupyter-widgets/base",
            "_model_module_version": "1.2.0",
            "_model_name": "LayoutModel",
            "_view_count": null,
            "_view_module": "@jupyter-widgets/base",
            "_view_module_version": "1.2.0",
            "_view_name": "LayoutView",
            "align_content": null,
            "align_items": null,
            "align_self": null,
            "border": null,
            "bottom": null,
            "display": null,
            "flex": null,
            "flex_flow": null,
            "grid_area": null,
            "grid_auto_columns": null,
            "grid_auto_flow": null,
            "grid_auto_rows": null,
            "grid_column": null,
            "grid_gap": null,
            "grid_row": null,
            "grid_template_areas": null,
            "grid_template_columns": null,
            "grid_template_rows": null,
            "height": null,
            "justify_content": null,
            "justify_items": null,
            "left": null,
            "margin": null,
            "max_height": null,
            "max_width": null,
            "min_height": null,
            "min_width": null,
            "object_fit": null,
            "object_position": null,
            "order": null,
            "overflow": null,
            "overflow_x": null,
            "overflow_y": null,
            "padding": null,
            "right": null,
            "top": null,
            "visibility": null,
            "width": null
          }
        },
        "57658cf875ce4bb8ab4a5b4d2578c8b9": {
          "model_module": "@jupyter-widgets/base",
          "model_name": "LayoutModel",
          "model_module_version": "1.2.0",
          "state": {
            "_model_module": "@jupyter-widgets/base",
            "_model_module_version": "1.2.0",
            "_model_name": "LayoutModel",
            "_view_count": null,
            "_view_module": "@jupyter-widgets/base",
            "_view_module_version": "1.2.0",
            "_view_name": "LayoutView",
            "align_content": null,
            "align_items": null,
            "align_self": null,
            "border": null,
            "bottom": null,
            "display": null,
            "flex": null,
            "flex_flow": null,
            "grid_area": null,
            "grid_auto_columns": null,
            "grid_auto_flow": null,
            "grid_auto_rows": null,
            "grid_column": null,
            "grid_gap": null,
            "grid_row": null,
            "grid_template_areas": null,
            "grid_template_columns": null,
            "grid_template_rows": null,
            "height": null,
            "justify_content": null,
            "justify_items": null,
            "left": null,
            "margin": null,
            "max_height": null,
            "max_width": null,
            "min_height": null,
            "min_width": null,
            "object_fit": null,
            "object_position": null,
            "order": null,
            "overflow": null,
            "overflow_x": null,
            "overflow_y": null,
            "padding": null,
            "right": null,
            "top": null,
            "visibility": null,
            "width": null
          }
        },
        "87c70216356a43a7ab41d438e85bc36f": {
          "model_module": "@jupyter-widgets/controls",
          "model_name": "DescriptionStyleModel",
          "model_module_version": "1.5.0",
          "state": {
            "_model_module": "@jupyter-widgets/controls",
            "_model_module_version": "1.5.0",
            "_model_name": "DescriptionStyleModel",
            "_view_count": null,
            "_view_module": "@jupyter-widgets/base",
            "_view_module_version": "1.2.0",
            "_view_name": "StyleView",
            "description_width": ""
          }
        },
        "dc92c19b4553453488da1769fc6792ea": {
          "model_module": "@jupyter-widgets/base",
          "model_name": "LayoutModel",
          "model_module_version": "1.2.0",
          "state": {
            "_model_module": "@jupyter-widgets/base",
            "_model_module_version": "1.2.0",
            "_model_name": "LayoutModel",
            "_view_count": null,
            "_view_module": "@jupyter-widgets/base",
            "_view_module_version": "1.2.0",
            "_view_name": "LayoutView",
            "align_content": null,
            "align_items": null,
            "align_self": null,
            "border": null,
            "bottom": null,
            "display": null,
            "flex": null,
            "flex_flow": null,
            "grid_area": null,
            "grid_auto_columns": null,
            "grid_auto_flow": null,
            "grid_auto_rows": null,
            "grid_column": null,
            "grid_gap": null,
            "grid_row": null,
            "grid_template_areas": null,
            "grid_template_columns": null,
            "grid_template_rows": null,
            "height": null,
            "justify_content": null,
            "justify_items": null,
            "left": null,
            "margin": null,
            "max_height": null,
            "max_width": null,
            "min_height": null,
            "min_width": null,
            "object_fit": null,
            "object_position": null,
            "order": null,
            "overflow": null,
            "overflow_x": null,
            "overflow_y": null,
            "padding": null,
            "right": null,
            "top": null,
            "visibility": null,
            "width": null
          }
        },
        "c892086dc3ff4b4f8487e51eca94ec39": {
          "model_module": "@jupyter-widgets/controls",
          "model_name": "ProgressStyleModel",
          "model_module_version": "1.5.0",
          "state": {
            "_model_module": "@jupyter-widgets/controls",
            "_model_module_version": "1.5.0",
            "_model_name": "ProgressStyleModel",
            "_view_count": null,
            "_view_module": "@jupyter-widgets/base",
            "_view_module_version": "1.2.0",
            "_view_name": "StyleView",
            "bar_color": null,
            "description_width": ""
          }
        },
        "d5b5c8e6952f45dfa1e5351e1478b59c": {
          "model_module": "@jupyter-widgets/base",
          "model_name": "LayoutModel",
          "model_module_version": "1.2.0",
          "state": {
            "_model_module": "@jupyter-widgets/base",
            "_model_module_version": "1.2.0",
            "_model_name": "LayoutModel",
            "_view_count": null,
            "_view_module": "@jupyter-widgets/base",
            "_view_module_version": "1.2.0",
            "_view_name": "LayoutView",
            "align_content": null,
            "align_items": null,
            "align_self": null,
            "border": null,
            "bottom": null,
            "display": null,
            "flex": null,
            "flex_flow": null,
            "grid_area": null,
            "grid_auto_columns": null,
            "grid_auto_flow": null,
            "grid_auto_rows": null,
            "grid_column": null,
            "grid_gap": null,
            "grid_row": null,
            "grid_template_areas": null,
            "grid_template_columns": null,
            "grid_template_rows": null,
            "height": null,
            "justify_content": null,
            "justify_items": null,
            "left": null,
            "margin": null,
            "max_height": null,
            "max_width": null,
            "min_height": null,
            "min_width": null,
            "object_fit": null,
            "object_position": null,
            "order": null,
            "overflow": null,
            "overflow_x": null,
            "overflow_y": null,
            "padding": null,
            "right": null,
            "top": null,
            "visibility": null,
            "width": null
          }
        },
        "58fcbd487721422a91cd8227f7e07710": {
          "model_module": "@jupyter-widgets/controls",
          "model_name": "DescriptionStyleModel",
          "model_module_version": "1.5.0",
          "state": {
            "_model_module": "@jupyter-widgets/controls",
            "_model_module_version": "1.5.0",
            "_model_name": "DescriptionStyleModel",
            "_view_count": null,
            "_view_module": "@jupyter-widgets/base",
            "_view_module_version": "1.2.0",
            "_view_name": "StyleView",
            "description_width": ""
          }
        }
      }
    }
  },
  "cells": [
    {
      "cell_type": "code",
      "execution_count": null,
      "metadata": {
        "id": "7SniGB5yAn-J"
      },
      "outputs": [],
      "source": [
        "!pip install shap lime transformers torch torchvision"
      ]
    },
    {
      "cell_type": "code",
      "source": [
        "# Importing necessary libraries\n",
        "import torch\n",
        "from transformers import XLMRobertaForTokenClassification, DistilBertForTokenClassification\n",
        "from transformers import XLMRobertaTokenizer, DistilBertTokenizer\n",
        "import shap\n",
        "from lime.lime_text import LimeTextExplainer\n",
        "import numpy as np"
      ],
      "metadata": {
        "id": "nEcAc5SmAq8v"
      },
      "execution_count": 2,
      "outputs": []
    },
    {
      "cell_type": "code",
      "source": [
        "# Load models and tokenizers\n",
        "model_name_xlm = 'xlm-roberta-base'  # XLM-Roberta\n",
        "model_name_distil = 'distilbert-base-multilingual-cased'  # DistilBERT\n",
        "tokenizer_xlm = XLMRobertaTokenizer.from_pretrained(model_name_xlm)\n",
        "tokenizer_distil = DistilBertTokenizer.from_pretrained(model_name_distil)"
      ],
      "metadata": {
        "id": "nJvHR2EvAySF"
      },
      "execution_count": null,
      "outputs": []
    },
    {
      "cell_type": "code",
      "source": [
        "# Load models\n",
        "model_xlm = XLMRobertaForTokenClassification.from_pretrained(model_name_xlm)\n",
        "model_distil = DistilBertForTokenClassification.from_pretrained(model_name_distil)"
      ],
      "metadata": {
        "id": "H1za3vxWA0Bp"
      },
      "execution_count": null,
      "outputs": []
    },
    {
      "cell_type": "code",
      "source": [
        "# Set models to evaluation mode\n",
        "model_xlm.eval()\n",
        "model_distil.eval()"
      ],
      "metadata": {
        "id": "WUZAvbsQA7Go"
      },
      "execution_count": null,
      "outputs": []
    },
    {
      "cell_type": "code",
      "source": [
        "# Sample tokenized input data\n",
        "sample_data = [\n",
        "    \"John Smith visited New York City.\",\n",
        "    \"The river bank near the bank of America was flooded.\"\n",
        "]"
      ],
      "metadata": {
        "id": "eAq6ohoJA-kG"
      },
      "execution_count": 6,
      "outputs": []
    },
    {
      "cell_type": "code",
      "source": [
        "# Function to tokenize input for SHAP\n",
        "def tokenize_for_shap(text):\n",
        "    return tokenizer_xlm(text, return_tensors=\"pt\", padding=True, truncation=True)\n",
        "\n",
        "# SHAP Implementation\n",
        "def explain_with_shap(model, text):\n",
        "    # Tokenize input\n",
        "    tokenized_data = tokenize_for_shap(text)\n",
        "\n",
        "    # Define a function to make predictions\n",
        "    def predict_fn(input_ids):\n",
        "        input_ids = torch.tensor(input_ids)  # Ensure input_ids is a tensor\n",
        "        with torch.no_grad():\n",
        "            outputs = model(input_ids)\n",
        "            logits = outputs.logits\n",
        "            return torch.softmax(logits, dim=2).cpu().numpy()  # Get probabilities\n",
        "\n",
        "    # Create SHAP explainer\n",
        "    explainer = shap.KernelExplainer(predict_fn, tokenized_data['input_ids'].cpu().numpy())\n",
        "\n",
        "    # Compute SHAP values for the tokenized input\n",
        "    shap_values = explainer.shap_values(tokenized_data['input_ids'].cpu().numpy())\n",
        "\n",
        "    # Plot SHAP summary for the first class (change index if necessary)\n",
        "    feature_names = tokenizer_xlm.convert_ids_to_tokens(tokenized_data['input_ids'][0].tolist())\n",
        "    shap.summary_plot(shap_values[0], feature_names=feature_names)"
      ],
      "metadata": {
        "id": "jUpKoM0qBAVe"
      },
      "execution_count": 7,
      "outputs": []
    },
    {
      "cell_type": "code",
      "source": [
        "# LIME Implementation for token classification\n",
        "def explain_with_lime(model, text):\n",
        "    explainer = LimeTextExplainer(class_names=[\"O\", \"B-PER\", \"I-PER\", \"B-ORG\", \"I-ORG\", \"B-LOC\", \"I-LOC\", \"B-MISC\", \"I-MISC\"])  # Adjust class names as necessary\n",
        "\n",
        "    # Define a prediction function for LIME\n",
        "    def predict_fn(texts):\n",
        "        inputs = tokenizer_distil(texts, return_tensors=\"pt\", padding=True, truncation=True)\n",
        "        with torch.no_grad():\n",
        "            outputs = model(inputs['input_ids'].to(model.device))\n",
        "            logits = outputs.logits\n",
        "            probabilities = torch.softmax(logits, dim=2)  # Shape (batch_size, seq_length, num_classes)\n",
        "\n",
        "            # Since LIME expects a 2D array (batch_size, num_classes), we will average the probabilities across tokens\n",
        "            token_probabilities = probabilities.mean(dim=1)  # Averaging across tokens (seq_length axis)\n",
        "            return token_probabilities.cpu().numpy()\n",
        "\n",
        "    # Generate LIME explanation\n",
        "    explanation = explainer.explain_instance(text, predict_fn, num_features=10)\n",
        "\n",
        "    # Store results for reporting\n",
        "    lime_analysis = {\n",
        "        'lime_exp': explanation,\n",
        "        'text': text\n",
        "    }\n",
        "\n",
        "    return lime_analysis\n"
      ],
      "metadata": {
        "id": "6TuNzOHvBNmt"
      },
      "execution_count": 8,
      "outputs": []
    },
    {
      "cell_type": "code",
      "source": [
        "# Explain the models\n",
        "print(\"SHAP Explanation for XLM-Roberta:\")\n",
        "explain_with_shap(model_xlm, sample_data[0])\n",
        "print(\"LIME Explanation for DistilBERT:\")\n",
        "lime_result = explain_with_lime(model_distil, sample_data[1])\n",
        "print(lime_result['lime_exp'].as_list())  # Print the LIME explanation result"
      ],
      "metadata": {
        "colab": {
          "base_uri": "https://localhost:8080/",
          "height": 678,
          "referenced_widgets": [
            "df8470b39f624afd87a52f7fb39feeb5",
            "96b83d2429de46e4973c2724d523ec32",
            "b657112cb25f41fa8d7e444cc19961b7",
            "1fb0944679f64ed9a0c2508f9f8311d9",
            "32bda48253564ef89c46647b8f488428",
            "57658cf875ce4bb8ab4a5b4d2578c8b9",
            "87c70216356a43a7ab41d438e85bc36f",
            "dc92c19b4553453488da1769fc6792ea",
            "c892086dc3ff4b4f8487e51eca94ec39",
            "d5b5c8e6952f45dfa1e5351e1478b59c",
            "58fcbd487721422a91cd8227f7e07710"
          ]
        },
        "id": "q7rX5FzXBRH2",
        "outputId": "4fb5eef5-c2ff-413e-b9f6-6995fef434b7"
      },
      "execution_count": 9,
      "outputs": [
        {
          "output_type": "stream",
          "name": "stdout",
          "text": [
            "SHAP Explanation for XLM-Roberta:\n"
          ]
        },
        {
          "output_type": "display_data",
          "data": {
            "text/plain": [
              "  0%|          | 0/1 [00:00<?, ?it/s]"
            ],
            "application/vnd.jupyter.widget-view+json": {
              "version_major": 2,
              "version_minor": 0,
              "model_id": "df8470b39f624afd87a52f7fb39feeb5"
            }
          },
          "metadata": {}
        },
        {
          "output_type": "display_data",
          "data": {
            "text/plain": [
              "<Figure size 800x550 with 1 Axes>"
            ],
            "image/png": "[encoded data removed]"
          },
          "metadata": {}
        },
        {
          "output_type": "stream",
          "name": "stdout",
          "text": [
            "LIME Explanation for DistilBERT:\n"
          ]
        },
        {
          "output_type": "stream",
          "name": "stderr",
          "text": [
            "We strongly recommend passing in an `attention_mask` since your input_ids may be padded. See https://huggingface.co/docs/transformers/troubleshooting#incorrect-output-when-padding-tokens-arent-masked.\n"
          ]
        },
        {
          "output_type": "stream",
          "name": "stdout",
          "text": [
            "[('The', 0.018575834892134973), ('bank', -0.015047445442898015), ('near', 0.011961731955877311), ('river', -0.007111240631169503), ('flooded', -0.006310095401073284), ('was', -0.005736505108450883), ('America', -0.005696276804064172), ('the', 0.0018395928161189705), ('of', 0.001034888492268577)]\n"
          ]
        }
      ]
    }
  ]
}